{
 "cells": [
  {
   "cell_type": "code",
   "execution_count": 1,
   "metadata": {},
   "outputs": [],
   "source": [
    "from mailmerge import MailMerge\n",
    "from docx2pdf import convert\n",
    "import PyPDF2"
   ]
  },
  {
   "cell_type": "code",
   "execution_count": 2,
   "metadata": {},
   "outputs": [],
   "source": [
    "resume = MailMerge(open(\"C:/Users/HP/Documents/Work Bitch/2007_Karissa_Wood_R.docx\", 'rb'))"
   ]
  },
  {
   "cell_type": "code",
   "execution_count": 3,
   "metadata": {},
   "outputs": [],
   "source": [
    "cover = MailMerge(open(\"C:/Users/HP/Documents/Work Bitch/2007_Karissa_Wood_C.docx\", 'rb'))"
   ]
  },
  {
   "cell_type": "code",
   "execution_count": 4,
   "metadata": {},
   "outputs": [],
   "source": [
    "desc = open(\"C:/Users/HP/Documents/Work Bitch/Desc.txt\", 'r')"
   ]
  },
  {
   "cell_type": "code",
   "execution_count": 5,
   "metadata": {},
   "outputs": [
    {
     "name": "stdout",
     "output_type": "stream",
     "text": [
      "{'DESC'}\n"
     ]
    },
    {
     "data": {
      "text/plain": [
       "{'ALT_POSITION',\n",
       " 'ALT_TARGET',\n",
       " 'NAME',\n",
       " 'POINT1',\n",
       " 'POINT2',\n",
       " 'POINT3',\n",
       " 'POINT4',\n",
       " 'POSITION',\n",
       " 'SOURCE',\n",
       " 'TARGET'}"
      ]
     },
     "execution_count": 5,
     "metadata": {},
     "output_type": "execute_result"
    }
   ],
   "source": [
    "print((resume).get_merge_fields())\n",
    "(cover).get_merge_fields()"
   ]
  },
  {
   "cell_type": "markdown",
   "metadata": {},
   "source": [
    "## BASIC ADJUSTMENTS"
   ]
  },
  {
   "cell_type": "code",
   "execution_count": 6,
   "metadata": {},
   "outputs": [],
   "source": [
    "name = 'Hiring Manager'"
   ]
  },
  {
   "cell_type": "code",
   "execution_count": 7,
   "metadata": {},
   "outputs": [],
   "source": [
    "position = 'Financial and Data Analyst'"
   ]
  },
  {
   "cell_type": "code",
   "execution_count": 8,
   "metadata": {},
   "outputs": [],
   "source": [
    "target = 'XXXXX'"
   ]
  },
  {
   "cell_type": "code",
   "execution_count": 9,
   "metadata": {},
   "outputs": [],
   "source": [
    "source = 'GlassDoor'"
   ]
  },
  {
   "cell_type": "code",
   "execution_count": 10,
   "metadata": {},
   "outputs": [],
   "source": [
    "alt_position = position"
   ]
  },
  {
   "cell_type": "code",
   "execution_count": 11,
   "metadata": {},
   "outputs": [],
   "source": [
    "alt_target = target"
   ]
  },
  {
   "cell_type": "code",
   "execution_count": 12,
   "metadata": {},
   "outputs": [],
   "source": [
    "desc = desc.read()"
   ]
  },
  {
   "cell_type": "code",
   "execution_count": 13,
   "metadata": {},
   "outputs": [],
   "source": [
    "desc = desc.replace('.', '').replace('(', '').replace(')', '').replace(',', '').replace('?', '').replace('/', ' ').replace('+', '').replace('\\n', ' ').replace('\\r', '').replace(':', '').replace(':', '')#.replace('.', '')"
   ]
  },
  {
   "cell_type": "markdown",
   "metadata": {},
   "source": [
    "## POINT FORM OPTIONS"
   ]
  },
  {
   "cell_type": "code",
   "execution_count": 14,
   "metadata": {},
   "outputs": [],
   "source": [
    "point1 = 'Experience with large datasets and advanced quantitative analysis in BigQuery, MS-SQL Server, Tableau, MS-Excel, and languages such as SQL, Python and R'"
   ]
  },
  {
   "cell_type": "code",
   "execution_count": 15,
   "metadata": {},
   "outputs": [],
   "source": [
    "point2 = 'Managing end to end processes for projects including data acquisition, cleaning and transformation, analytics, and visualization of insights'"
   ]
  },
  {
   "cell_type": "code",
   "execution_count": 16,
   "metadata": {},
   "outputs": [],
   "source": [
    "point3 = 'Identifying and repairing errors in data source code resulting in more accurate revenue, performance, and projection metrics'"
   ]
  },
  {
   "cell_type": "code",
   "execution_count": 17,
   "metadata": {},
   "outputs": [],
   "source": [
    "point4 = 'Excellent time-management skills and an ability to effectively manage several projects concurrently'"
   ]
  },
  {
   "cell_type": "code",
   "execution_count": 18,
   "metadata": {},
   "outputs": [],
   "source": [
    "point5 = 'Strong communication skills and an awareness of how people think and process information'"
   ]
  },
  {
   "cell_type": "code",
   "execution_count": 19,
   "metadata": {},
   "outputs": [],
   "source": [
    "point6 = 'Project management including pricing and design of project and scope as well as carrying out project and managing timelines'"
   ]
  },
  {
   "cell_type": "code",
   "execution_count": 20,
   "metadata": {},
   "outputs": [],
   "source": [
    "point7 = 'Years of experience within Drug and Health analytics, in conjunction with maintanance of the company Drug database'"
   ]
  },
  {
   "cell_type": "markdown",
   "metadata": {},
   "source": [
    "## COVER MERGE"
   ]
  },
  {
   "cell_type": "code",
   "execution_count": 21,
   "metadata": {},
   "outputs": [],
   "source": [
    "cover.merge(\n",
    "    NAME = name\n",
    "    ,POSITION = position\n",
    "    ,TARGET = target\n",
    "    ,SOURCE = source\n",
    "    ,ALT_POSITION = alt_position\n",
    "    ,ALT_TARGET = alt_target\n",
    "    ,POINT1 = point1\n",
    "    ,POINT2 = point2\n",
    "    ,POINT3 = point3\n",
    "    ,POINT4 = point4\n",
    "    #,POINT5 = point5\n",
    "    )"
   ]
  },
  {
   "cell_type": "code",
   "execution_count": 22,
   "metadata": {},
   "outputs": [],
   "source": [
    "cover.write('C:/Users/HP/Documents/Work Bitch/PythonAdjusted/KWood_Cover_' + target + '_' + position + '.docx')"
   ]
  },
  {
   "cell_type": "code",
   "execution_count": 23,
   "metadata": {},
   "outputs": [
    {
     "data": {
      "application/vnd.jupyter.widget-view+json": {
       "model_id": "b105284468154d0eb68a13390dedcbe8",
       "version_major": 2,
       "version_minor": 0
      },
      "text/plain": [
       "HBox(children=(FloatProgress(value=0.0, max=1.0), HTML(value='')))"
      ]
     },
     "metadata": {},
     "output_type": "display_data"
    }
   ],
   "source": [
    "convert('C:/Users/HP/Documents/Work Bitch/PythonAdjusted/KWood_Cover_' + target + '_' + position + '.docx', 'C:/Users/HP/Documents/Work Bitch/PythonAdjusted/KWood_Cover_' + target + '_' + position + '.pdf')"
   ]
  },
  {
   "cell_type": "markdown",
   "metadata": {},
   "source": [
    "## RESUME MERGE"
   ]
  },
  {
   "cell_type": "code",
   "execution_count": 24,
   "metadata": {},
   "outputs": [],
   "source": [
    "resume.merge(\n",
    "    DESC = desc\n",
    "    )"
   ]
  },
  {
   "cell_type": "code",
   "execution_count": 25,
   "metadata": {},
   "outputs": [],
   "source": [
    "resume.write('C:/Users/HP/Documents/Work Bitch/PythonAdjusted/KWood_Resume_' + target + '_' + position + '.docx')"
   ]
  },
  {
   "cell_type": "code",
   "execution_count": 26,
   "metadata": {},
   "outputs": [
    {
     "data": {
      "application/vnd.jupyter.widget-view+json": {
       "model_id": "d3a296bb5896415193c88cc19ad346e8",
       "version_major": 2,
       "version_minor": 0
      },
      "text/plain": [
       "HBox(children=(FloatProgress(value=0.0, max=1.0), HTML(value='')))"
      ]
     },
     "metadata": {},
     "output_type": "display_data"
    }
   ],
   "source": [
    "convert('C:/Users/HP/Documents/Work Bitch/PythonAdjusted/KWood_Resume_' + target + '_' + position + '.docx', 'C:/Users/HP/Documents/Work Bitch/PythonAdjusted/KWood_Resume_' + target + '_' + position + '.pdf')"
   ]
  },
  {
   "cell_type": "markdown",
   "metadata": {},
   "source": [
    "## PDF MERGE COVER + RESUME"
   ]
  },
  {
   "cell_type": "code",
   "execution_count": 27,
   "metadata": {},
   "outputs": [
    {
     "name": "stdout",
     "output_type": "stream",
     "text": [
      "\n"
     ]
    }
   ],
   "source": [
    "CoverPDF = open('C:/Users/HP/Documents/Work Bitch/PythonAdjusted/KWood_Cover_' + target + '_' + position + '.pdf', 'rb')\n",
    "ResumePDF = open('C:/Users/HP/Documents/Work Bitch/PythonAdjusted/KWood_Resume_' + target + '_' + position + '.pdf', 'rb')\n",
    " \n",
    "# Read the files that you have opened\n",
    "CoverPDFReader = PyPDF2.PdfFileReader(CoverPDF)\n",
    "ResumePDFReader = PyPDF2.PdfFileReader(ResumePDF)\n",
    " \n",
    "# Create a new PdfFileWriter object which represents a blank PDF document\n",
    "Combined = PyPDF2.PdfFileWriter()\n",
    " \n",
    "# Loop through all the pagenumbers for the first document\n",
    "for pageNum in range(ResumePDFReader.numPages):\n",
    "    pageObj = ResumePDFReader.getPage(pageNum)\n",
    "    Combined.addPage(pageObj)\n",
    "    \n",
    "# Loop through all the pagenumbers for the second document\n",
    "for pageNum in range(CoverPDFReader.numPages):\n",
    "    pageObj = CoverPDFReader.getPage(pageNum)\n",
    "    Combined.addPage(pageObj)\n",
    " \n",
    " # Now that you have copied all the pages in both the documents, write them into the a new document\n",
    "pdfOutputFile = open('C:/Users/HP/Documents/Work Bitch/PythonAdjusted/KWood_Resume_and_Cover_' + target + '_' + position + '.pdf', 'wb')\n",
    "Combined.write(pdfOutputFile)\n",
    " \n",
    "# Close all the files - Created as well as opened\n",
    "pdfOutputFile.close()\n",
    "CoverPDF.close()\n",
    "ResumePDF.close()"
   ]
  },
  {
   "cell_type": "markdown",
   "metadata": {},
   "source": []
  },
  {
   "cell_type": "markdown",
   "metadata": {},
   "source": [
    "## DELETE EMPTY BULLETS"
   ]
  },
  {
   "cell_type": "markdown",
   "metadata": {},
   "source": [
    "#### Eventually I am hoping to edit doc in python to be able to adjust number of points upon need. \n",
    "\n",
    "Example: <br> \n",
    "-add more mailmerge fields to template <br>\n",
    "-if field is not used then bullet point will be removed from doc before saving \n",
    "\n",
    "#### This is not working however- \n",
    "docx2txt doesn't register bullets or formatting, \n",
    "PyPDF2 reads file as empty (\\n only) and \n",
    "docx also reads file as empty (2 empty paragraphs)\n",
    "mailmerge package itself is not really designed for this- it does not delete, only substitute\n",
    "\n",
    "#### -----------------"
   ]
  },
  {
   "cell_type": "markdown",
   "metadata": {},
   "source": [
    "import PyPDF2\n",
    "pdfFileObj = open('C:/Users/HP/Documents/Work Bitch/PythonAdjusted/KWood_Cover_' + target + '_' + position + '.pdf',  'rb')\n",
    "pdfReader = PyPDF2.PdfFileReader(pdfFileObj)\n",
    "pageObj = pdfReader.getPage(0)\n",
    "pageObj.extractText()"
   ]
  },
  {
   "cell_type": "markdown",
   "metadata": {},
   "source": [
    "from docx import Document\n",
    "docx_cover = Document('C:/Users/HP/Documents/Work Bitch/PythonAdjusted/KWood_Cover_' + target + '_' + position + '.docx')\n",
    "for paragraphs in docx_cover.paragraphs:\n",
    "        print('---------')\n",
    "        print(paragraphs.text)\n",
    "        "
   ]
  },
  {
   "cell_type": "code",
   "execution_count": null,
   "metadata": {},
   "outputs": [],
   "source": []
  }
 ],
 "metadata": {
  "kernelspec": {
   "display_name": "Python 3",
   "language": "python",
   "name": "python3"
  },
  "language_info": {
   "codemirror_mode": {
    "name": "ipython",
    "version": 3
   },
   "file_extension": ".py",
   "mimetype": "text/x-python",
   "name": "python",
   "nbconvert_exporter": "python",
   "pygments_lexer": "ipython3",
   "version": "3.8.3"
  }
 },
 "nbformat": 4,
 "nbformat_minor": 4
}
